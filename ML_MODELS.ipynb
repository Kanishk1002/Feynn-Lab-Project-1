{
  "nbformat": 4,
  "nbformat_minor": 0,
  "metadata": {
    "colab": {
      "provenance": [],
      "gpuType": "T4"
    },
    "kernelspec": {
      "name": "python3",
      "display_name": "Python 3"
    },
    "language_info": {
      "name": "python"
    },
    "accelerator": "GPU",
    "gpuClass": "standard"
  },
  "cells": [
    {
      "cell_type": "code",
      "execution_count": null,
      "metadata": {
        "id": "zoFzwzgeALjn",
        "colab": {
          "base_uri": "https://localhost:8080/"
        },
        "outputId": "9dc96bb1-cf17-42e6-9799-7c8f31277aa6"
      },
      "outputs": [
        {
          "output_type": "stream",
          "name": "stdout",
          "text": [
            "Drive already mounted at /content/drive; to attempt to forcibly remount, call drive.mount(\"/content/drive\", force_remount=True).\n"
          ]
        }
      ],
      "source": [
        "from google.colab import drive\n",
        "drive.mount('/content/drive')\n"
      ]
    },
    {
      "cell_type": "code",
      "source": [
        "\n",
        "import pandas as pd\n",
        "import pylab as pl\n",
        "import numpy as np\n",
        "import scipy.optimize as opt\n",
        "from sklearn import preprocessing\n",
        "%matplotlib inline \n",
        "import matplotlib.pyplot as plt\n",
        "import seaborn as sns\n",
        "from sklearn.metrics import precision_score, recall_score, f1_score, accuracy_score\n"
      ],
      "metadata": {
        "id": "C62ja91bAm1G"
      },
      "execution_count": null,
      "outputs": []
    },
    {
      "cell_type": "code",
      "source": [
        "df = pd.read_csv(\"/content/drive/MyDrive/feynn_dataset_1/dataset9000.csv\")\n",
        "df.head()"
      ],
      "metadata": {
        "id": "qpALRm58Aqde",
        "colab": {
          "base_uri": "https://localhost:8080/",
          "height": 392
        },
        "outputId": "7fc14c0e-4174-478b-fed1-1fe23ddf8ee9"
      },
      "execution_count": null,
      "outputs": [
        {
          "output_type": "execute_result",
          "data": {
            "text/plain": [
              "  Database Fundamentals Computer Architecture Distributed Computing Systems  \\\n",
              "0          Professional        Not Interested                Not Interested   \n",
              "1          Professional                  Poor                Not Interested   \n",
              "2          Professional              Beginner                Not Interested   \n",
              "3          Professional               Average                Not Interested   \n",
              "4          Professional          Intermediate                Not Interested   \n",
              "\n",
              "   Cyber Security      Networking Software Development Programming Skills  \\\n",
              "0  Not Interested  Not Interested       Not Interested     Not Interested   \n",
              "1  Not Interested  Not Interested       Not Interested     Not Interested   \n",
              "2  Not Interested  Not Interested       Not Interested     Not Interested   \n",
              "3  Not Interested  Not Interested       Not Interested     Not Interested   \n",
              "4  Not Interested  Not Interested       Not Interested     Not Interested   \n",
              "\n",
              "  Project Management Computer Forensics Fundamentals Technical Communication  \\\n",
              "0     Not Interested                  Not Interested          Not Interested   \n",
              "1     Not Interested                  Not Interested          Not Interested   \n",
              "2     Not Interested                  Not Interested          Not Interested   \n",
              "3     Not Interested                  Not Interested          Not Interested   \n",
              "4     Not Interested                  Not Interested          Not Interested   \n",
              "\n",
              "            AI ML Software Engineering Business Analysis Communication skills  \\\n",
              "0  Not Interested       Not Interested    Not Interested       Not Interested   \n",
              "1  Not Interested       Not Interested    Not Interested       Not Interested   \n",
              "2  Not Interested       Not Interested    Not Interested       Not Interested   \n",
              "3  Not Interested       Not Interested    Not Interested       Not Interested   \n",
              "4  Not Interested       Not Interested    Not Interested       Not Interested   \n",
              "\n",
              "     Data Science Troubleshooting skills Graphics Designing  \\\n",
              "0  Not Interested         Not Interested     Not Interested   \n",
              "1  Not Interested         Not Interested     Not Interested   \n",
              "2  Not Interested         Not Interested     Not Interested   \n",
              "3  Not Interested         Not Interested     Not Interested   \n",
              "4  Not Interested         Not Interested     Not Interested   \n",
              "\n",
              "                     Role  \n",
              "0  Database Administrator  \n",
              "1  Database Administrator  \n",
              "2  Database Administrator  \n",
              "3  Database Administrator  \n",
              "4  Database Administrator  "
            ],
            "text/html": [
              "\n",
              "  <div id=\"df-66b83ef2-92cf-480a-85f5-03449bcc40ab\">\n",
              "    <div class=\"colab-df-container\">\n",
              "      <div>\n",
              "<style scoped>\n",
              "    .dataframe tbody tr th:only-of-type {\n",
              "        vertical-align: middle;\n",
              "    }\n",
              "\n",
              "    .dataframe tbody tr th {\n",
              "        vertical-align: top;\n",
              "    }\n",
              "\n",
              "    .dataframe thead th {\n",
              "        text-align: right;\n",
              "    }\n",
              "</style>\n",
              "<table border=\"1\" class=\"dataframe\">\n",
              "  <thead>\n",
              "    <tr style=\"text-align: right;\">\n",
              "      <th></th>\n",
              "      <th>Database Fundamentals</th>\n",
              "      <th>Computer Architecture</th>\n",
              "      <th>Distributed Computing Systems</th>\n",
              "      <th>Cyber Security</th>\n",
              "      <th>Networking</th>\n",
              "      <th>Software Development</th>\n",
              "      <th>Programming Skills</th>\n",
              "      <th>Project Management</th>\n",
              "      <th>Computer Forensics Fundamentals</th>\n",
              "      <th>Technical Communication</th>\n",
              "      <th>AI ML</th>\n",
              "      <th>Software Engineering</th>\n",
              "      <th>Business Analysis</th>\n",
              "      <th>Communication skills</th>\n",
              "      <th>Data Science</th>\n",
              "      <th>Troubleshooting skills</th>\n",
              "      <th>Graphics Designing</th>\n",
              "      <th>Role</th>\n",
              "    </tr>\n",
              "  </thead>\n",
              "  <tbody>\n",
              "    <tr>\n",
              "      <th>0</th>\n",
              "      <td>Professional</td>\n",
              "      <td>Not Interested</td>\n",
              "      <td>Not Interested</td>\n",
              "      <td>Not Interested</td>\n",
              "      <td>Not Interested</td>\n",
              "      <td>Not Interested</td>\n",
              "      <td>Not Interested</td>\n",
              "      <td>Not Interested</td>\n",
              "      <td>Not Interested</td>\n",
              "      <td>Not Interested</td>\n",
              "      <td>Not Interested</td>\n",
              "      <td>Not Interested</td>\n",
              "      <td>Not Interested</td>\n",
              "      <td>Not Interested</td>\n",
              "      <td>Not Interested</td>\n",
              "      <td>Not Interested</td>\n",
              "      <td>Not Interested</td>\n",
              "      <td>Database Administrator</td>\n",
              "    </tr>\n",
              "    <tr>\n",
              "      <th>1</th>\n",
              "      <td>Professional</td>\n",
              "      <td>Poor</td>\n",
              "      <td>Not Interested</td>\n",
              "      <td>Not Interested</td>\n",
              "      <td>Not Interested</td>\n",
              "      <td>Not Interested</td>\n",
              "      <td>Not Interested</td>\n",
              "      <td>Not Interested</td>\n",
              "      <td>Not Interested</td>\n",
              "      <td>Not Interested</td>\n",
              "      <td>Not Interested</td>\n",
              "      <td>Not Interested</td>\n",
              "      <td>Not Interested</td>\n",
              "      <td>Not Interested</td>\n",
              "      <td>Not Interested</td>\n",
              "      <td>Not Interested</td>\n",
              "      <td>Not Interested</td>\n",
              "      <td>Database Administrator</td>\n",
              "    </tr>\n",
              "    <tr>\n",
              "      <th>2</th>\n",
              "      <td>Professional</td>\n",
              "      <td>Beginner</td>\n",
              "      <td>Not Interested</td>\n",
              "      <td>Not Interested</td>\n",
              "      <td>Not Interested</td>\n",
              "      <td>Not Interested</td>\n",
              "      <td>Not Interested</td>\n",
              "      <td>Not Interested</td>\n",
              "      <td>Not Interested</td>\n",
              "      <td>Not Interested</td>\n",
              "      <td>Not Interested</td>\n",
              "      <td>Not Interested</td>\n",
              "      <td>Not Interested</td>\n",
              "      <td>Not Interested</td>\n",
              "      <td>Not Interested</td>\n",
              "      <td>Not Interested</td>\n",
              "      <td>Not Interested</td>\n",
              "      <td>Database Administrator</td>\n",
              "    </tr>\n",
              "    <tr>\n",
              "      <th>3</th>\n",
              "      <td>Professional</td>\n",
              "      <td>Average</td>\n",
              "      <td>Not Interested</td>\n",
              "      <td>Not Interested</td>\n",
              "      <td>Not Interested</td>\n",
              "      <td>Not Interested</td>\n",
              "      <td>Not Interested</td>\n",
              "      <td>Not Interested</td>\n",
              "      <td>Not Interested</td>\n",
              "      <td>Not Interested</td>\n",
              "      <td>Not Interested</td>\n",
              "      <td>Not Interested</td>\n",
              "      <td>Not Interested</td>\n",
              "      <td>Not Interested</td>\n",
              "      <td>Not Interested</td>\n",
              "      <td>Not Interested</td>\n",
              "      <td>Not Interested</td>\n",
              "      <td>Database Administrator</td>\n",
              "    </tr>\n",
              "    <tr>\n",
              "      <th>4</th>\n",
              "      <td>Professional</td>\n",
              "      <td>Intermediate</td>\n",
              "      <td>Not Interested</td>\n",
              "      <td>Not Interested</td>\n",
              "      <td>Not Interested</td>\n",
              "      <td>Not Interested</td>\n",
              "      <td>Not Interested</td>\n",
              "      <td>Not Interested</td>\n",
              "      <td>Not Interested</td>\n",
              "      <td>Not Interested</td>\n",
              "      <td>Not Interested</td>\n",
              "      <td>Not Interested</td>\n",
              "      <td>Not Interested</td>\n",
              "      <td>Not Interested</td>\n",
              "      <td>Not Interested</td>\n",
              "      <td>Not Interested</td>\n",
              "      <td>Not Interested</td>\n",
              "      <td>Database Administrator</td>\n",
              "    </tr>\n",
              "  </tbody>\n",
              "</table>\n",
              "</div>\n",
              "      <button class=\"colab-df-convert\" onclick=\"convertToInteractive('df-66b83ef2-92cf-480a-85f5-03449bcc40ab')\"\n",
              "              title=\"Convert this dataframe to an interactive table.\"\n",
              "              style=\"display:none;\">\n",
              "        \n",
              "  <svg xmlns=\"http://www.w3.org/2000/svg\" height=\"24px\"viewBox=\"0 0 24 24\"\n",
              "       width=\"24px\">\n",
              "    <path d=\"M0 0h24v24H0V0z\" fill=\"none\"/>\n",
              "    <path d=\"M18.56 5.44l.94 2.06.94-2.06 2.06-.94-2.06-.94-.94-2.06-.94 2.06-2.06.94zm-11 1L8.5 8.5l.94-2.06 2.06-.94-2.06-.94L8.5 2.5l-.94 2.06-2.06.94zm10 10l.94 2.06.94-2.06 2.06-.94-2.06-.94-.94-2.06-.94 2.06-2.06.94z\"/><path d=\"M17.41 7.96l-1.37-1.37c-.4-.4-.92-.59-1.43-.59-.52 0-1.04.2-1.43.59L10.3 9.45l-7.72 7.72c-.78.78-.78 2.05 0 2.83L4 21.41c.39.39.9.59 1.41.59.51 0 1.02-.2 1.41-.59l7.78-7.78 2.81-2.81c.8-.78.8-2.07 0-2.86zM5.41 20L4 18.59l7.72-7.72 1.47 1.35L5.41 20z\"/>\n",
              "  </svg>\n",
              "      </button>\n",
              "      \n",
              "  <style>\n",
              "    .colab-df-container {\n",
              "      display:flex;\n",
              "      flex-wrap:wrap;\n",
              "      gap: 12px;\n",
              "    }\n",
              "\n",
              "    .colab-df-convert {\n",
              "      background-color: #E8F0FE;\n",
              "      border: none;\n",
              "      border-radius: 50%;\n",
              "      cursor: pointer;\n",
              "      display: none;\n",
              "      fill: #1967D2;\n",
              "      height: 32px;\n",
              "      padding: 0 0 0 0;\n",
              "      width: 32px;\n",
              "    }\n",
              "\n",
              "    .colab-df-convert:hover {\n",
              "      background-color: #E2EBFA;\n",
              "      box-shadow: 0px 1px 2px rgba(60, 64, 67, 0.3), 0px 1px 3px 1px rgba(60, 64, 67, 0.15);\n",
              "      fill: #174EA6;\n",
              "    }\n",
              "\n",
              "    [theme=dark] .colab-df-convert {\n",
              "      background-color: #3B4455;\n",
              "      fill: #D2E3FC;\n",
              "    }\n",
              "\n",
              "    [theme=dark] .colab-df-convert:hover {\n",
              "      background-color: #434B5C;\n",
              "      box-shadow: 0px 1px 3px 1px rgba(0, 0, 0, 0.15);\n",
              "      filter: drop-shadow(0px 1px 2px rgba(0, 0, 0, 0.3));\n",
              "      fill: #FFFFFF;\n",
              "    }\n",
              "  </style>\n",
              "\n",
              "      <script>\n",
              "        const buttonEl =\n",
              "          document.querySelector('#df-66b83ef2-92cf-480a-85f5-03449bcc40ab button.colab-df-convert');\n",
              "        buttonEl.style.display =\n",
              "          google.colab.kernel.accessAllowed ? 'block' : 'none';\n",
              "\n",
              "        async function convertToInteractive(key) {\n",
              "          const element = document.querySelector('#df-66b83ef2-92cf-480a-85f5-03449bcc40ab');\n",
              "          const dataTable =\n",
              "            await google.colab.kernel.invokeFunction('convertToInteractive',\n",
              "                                                     [key], {});\n",
              "          if (!dataTable) return;\n",
              "\n",
              "          const docLinkHtml = 'Like what you see? Visit the ' +\n",
              "            '<a target=\"_blank\" href=https://colab.research.google.com/notebooks/data_table.ipynb>data table notebook</a>'\n",
              "            + ' to learn more about interactive tables.';\n",
              "          element.innerHTML = '';\n",
              "          dataTable['output_type'] = 'display_data';\n",
              "          await google.colab.output.renderOutput(dataTable, element);\n",
              "          const docLink = document.createElement('div');\n",
              "          docLink.innerHTML = docLinkHtml;\n",
              "          element.appendChild(docLink);\n",
              "        }\n",
              "      </script>\n",
              "    </div>\n",
              "  </div>\n",
              "  "
            ]
          },
          "metadata": {},
          "execution_count": 69
        }
      ]
    },
    {
      "cell_type": "code",
      "source": [
        "\n",
        "df.fillna(method='ffill')"
      ],
      "metadata": {
        "colab": {
          "base_uri": "https://localhost:8080/",
          "height": 696
        },
        "id": "Yr4uZ3bxtY_j",
        "outputId": "84586af1-d8b9-41fa-c9b3-aaff888e8de3"
      },
      "execution_count": null,
      "outputs": [
        {
          "output_type": "execute_result",
          "data": {
            "text/plain": [
              "     Database Fundamentals Computer Architecture  \\\n",
              "0             Professional        Not Interested   \n",
              "1             Professional                  Poor   \n",
              "2             Professional              Beginner   \n",
              "3             Professional               Average   \n",
              "4             Professional          Intermediate   \n",
              "...                    ...                   ...   \n",
              "9174        Not Interested        Not Interested   \n",
              "9175        Not Interested        Not Interested   \n",
              "9176        Not Interested        Not Interested   \n",
              "9177        Not Interested        Not Interested   \n",
              "9178        Not Interested        Not Interested   \n",
              "\n",
              "     Distributed Computing Systems  Cyber Security      Networking  \\\n",
              "0                   Not Interested  Not Interested  Not Interested   \n",
              "1                   Not Interested  Not Interested  Not Interested   \n",
              "2                   Not Interested  Not Interested  Not Interested   \n",
              "3                   Not Interested  Not Interested  Not Interested   \n",
              "4                   Not Interested  Not Interested  Not Interested   \n",
              "...                            ...             ...             ...   \n",
              "9174                Not Interested  Not Interested  Not Interested   \n",
              "9175                Not Interested  Not Interested  Not Interested   \n",
              "9176                Not Interested  Not Interested  Not Interested   \n",
              "9177                Not Interested  Not Interested  Not Interested   \n",
              "9178                Not Interested  Not Interested  Not Interested   \n",
              "\n",
              "     Software Development Programming Skills Project Management  \\\n",
              "0          Not Interested     Not Interested     Not Interested   \n",
              "1          Not Interested     Not Interested     Not Interested   \n",
              "2          Not Interested     Not Interested     Not Interested   \n",
              "3          Not Interested     Not Interested     Not Interested   \n",
              "4          Not Interested     Not Interested     Not Interested   \n",
              "...                   ...                ...                ...   \n",
              "9174       Not Interested     Not Interested     Not Interested   \n",
              "9175       Not Interested     Not Interested     Not Interested   \n",
              "9176       Not Interested     Not Interested     Not Interested   \n",
              "9177       Not Interested     Not Interested     Not Interested   \n",
              "9178       Not Interested     Not Interested     Not Interested   \n",
              "\n",
              "     Computer Forensics Fundamentals Technical Communication           AI ML  \\\n",
              "0                     Not Interested          Not Interested  Not Interested   \n",
              "1                     Not Interested          Not Interested  Not Interested   \n",
              "2                     Not Interested          Not Interested  Not Interested   \n",
              "3                     Not Interested          Not Interested  Not Interested   \n",
              "4                     Not Interested          Not Interested  Not Interested   \n",
              "...                              ...                     ...             ...   \n",
              "9174                  Not Interested          Not Interested  Not Interested   \n",
              "9175                  Not Interested          Not Interested  Not Interested   \n",
              "9176                  Not Interested          Not Interested  Not Interested   \n",
              "9177                  Not Interested          Not Interested  Not Interested   \n",
              "9178                  Not Interested          Not Interested  Not Interested   \n",
              "\n",
              "     Software Engineering Business Analysis Communication skills  \\\n",
              "0          Not Interested    Not Interested       Not Interested   \n",
              "1          Not Interested    Not Interested       Not Interested   \n",
              "2          Not Interested    Not Interested       Not Interested   \n",
              "3          Not Interested    Not Interested       Not Interested   \n",
              "4          Not Interested    Not Interested       Not Interested   \n",
              "...                   ...               ...                  ...   \n",
              "9174       Not Interested    Not Interested       Not Interested   \n",
              "9175       Not Interested    Not Interested       Not Interested   \n",
              "9176       Not Interested    Not Interested       Not Interested   \n",
              "9177       Not Interested    Not Interested       Not Interested   \n",
              "9178       Not Interested    Not Interested       Not Interested   \n",
              "\n",
              "        Data Science Troubleshooting skills Graphics Designing  \\\n",
              "0     Not Interested         Not Interested     Not Interested   \n",
              "1     Not Interested         Not Interested     Not Interested   \n",
              "2     Not Interested         Not Interested     Not Interested   \n",
              "3     Not Interested         Not Interested     Not Interested   \n",
              "4     Not Interested         Not Interested     Not Interested   \n",
              "...              ...                    ...                ...   \n",
              "9174            Poor                   Poor       Professional   \n",
              "9175        Beginner               Beginner       Professional   \n",
              "9176         Average                Average       Professional   \n",
              "9177    Intermediate           Intermediate       Professional   \n",
              "9178       Excellent              Excellent       Professional   \n",
              "\n",
              "                        Role  \n",
              "0     Database Administrator  \n",
              "1     Database Administrator  \n",
              "2     Database Administrator  \n",
              "3     Database Administrator  \n",
              "4     Database Administrator  \n",
              "...                      ...  \n",
              "9174       Graphics Designer  \n",
              "9175       Graphics Designer  \n",
              "9176       Graphics Designer  \n",
              "9177       Graphics Designer  \n",
              "9178       Graphics Designer  \n",
              "\n",
              "[9179 rows x 18 columns]"
            ],
            "text/html": [
              "\n",
              "  <div id=\"df-ba9c845e-24f3-4c8b-bac9-c755c32ce1b5\">\n",
              "    <div class=\"colab-df-container\">\n",
              "      <div>\n",
              "<style scoped>\n",
              "    .dataframe tbody tr th:only-of-type {\n",
              "        vertical-align: middle;\n",
              "    }\n",
              "\n",
              "    .dataframe tbody tr th {\n",
              "        vertical-align: top;\n",
              "    }\n",
              "\n",
              "    .dataframe thead th {\n",
              "        text-align: right;\n",
              "    }\n",
              "</style>\n",
              "<table border=\"1\" class=\"dataframe\">\n",
              "  <thead>\n",
              "    <tr style=\"text-align: right;\">\n",
              "      <th></th>\n",
              "      <th>Database Fundamentals</th>\n",
              "      <th>Computer Architecture</th>\n",
              "      <th>Distributed Computing Systems</th>\n",
              "      <th>Cyber Security</th>\n",
              "      <th>Networking</th>\n",
              "      <th>Software Development</th>\n",
              "      <th>Programming Skills</th>\n",
              "      <th>Project Management</th>\n",
              "      <th>Computer Forensics Fundamentals</th>\n",
              "      <th>Technical Communication</th>\n",
              "      <th>AI ML</th>\n",
              "      <th>Software Engineering</th>\n",
              "      <th>Business Analysis</th>\n",
              "      <th>Communication skills</th>\n",
              "      <th>Data Science</th>\n",
              "      <th>Troubleshooting skills</th>\n",
              "      <th>Graphics Designing</th>\n",
              "      <th>Role</th>\n",
              "    </tr>\n",
              "  </thead>\n",
              "  <tbody>\n",
              "    <tr>\n",
              "      <th>0</th>\n",
              "      <td>Professional</td>\n",
              "      <td>Not Interested</td>\n",
              "      <td>Not Interested</td>\n",
              "      <td>Not Interested</td>\n",
              "      <td>Not Interested</td>\n",
              "      <td>Not Interested</td>\n",
              "      <td>Not Interested</td>\n",
              "      <td>Not Interested</td>\n",
              "      <td>Not Interested</td>\n",
              "      <td>Not Interested</td>\n",
              "      <td>Not Interested</td>\n",
              "      <td>Not Interested</td>\n",
              "      <td>Not Interested</td>\n",
              "      <td>Not Interested</td>\n",
              "      <td>Not Interested</td>\n",
              "      <td>Not Interested</td>\n",
              "      <td>Not Interested</td>\n",
              "      <td>Database Administrator</td>\n",
              "    </tr>\n",
              "    <tr>\n",
              "      <th>1</th>\n",
              "      <td>Professional</td>\n",
              "      <td>Poor</td>\n",
              "      <td>Not Interested</td>\n",
              "      <td>Not Interested</td>\n",
              "      <td>Not Interested</td>\n",
              "      <td>Not Interested</td>\n",
              "      <td>Not Interested</td>\n",
              "      <td>Not Interested</td>\n",
              "      <td>Not Interested</td>\n",
              "      <td>Not Interested</td>\n",
              "      <td>Not Interested</td>\n",
              "      <td>Not Interested</td>\n",
              "      <td>Not Interested</td>\n",
              "      <td>Not Interested</td>\n",
              "      <td>Not Interested</td>\n",
              "      <td>Not Interested</td>\n",
              "      <td>Not Interested</td>\n",
              "      <td>Database Administrator</td>\n",
              "    </tr>\n",
              "    <tr>\n",
              "      <th>2</th>\n",
              "      <td>Professional</td>\n",
              "      <td>Beginner</td>\n",
              "      <td>Not Interested</td>\n",
              "      <td>Not Interested</td>\n",
              "      <td>Not Interested</td>\n",
              "      <td>Not Interested</td>\n",
              "      <td>Not Interested</td>\n",
              "      <td>Not Interested</td>\n",
              "      <td>Not Interested</td>\n",
              "      <td>Not Interested</td>\n",
              "      <td>Not Interested</td>\n",
              "      <td>Not Interested</td>\n",
              "      <td>Not Interested</td>\n",
              "      <td>Not Interested</td>\n",
              "      <td>Not Interested</td>\n",
              "      <td>Not Interested</td>\n",
              "      <td>Not Interested</td>\n",
              "      <td>Database Administrator</td>\n",
              "    </tr>\n",
              "    <tr>\n",
              "      <th>3</th>\n",
              "      <td>Professional</td>\n",
              "      <td>Average</td>\n",
              "      <td>Not Interested</td>\n",
              "      <td>Not Interested</td>\n",
              "      <td>Not Interested</td>\n",
              "      <td>Not Interested</td>\n",
              "      <td>Not Interested</td>\n",
              "      <td>Not Interested</td>\n",
              "      <td>Not Interested</td>\n",
              "      <td>Not Interested</td>\n",
              "      <td>Not Interested</td>\n",
              "      <td>Not Interested</td>\n",
              "      <td>Not Interested</td>\n",
              "      <td>Not Interested</td>\n",
              "      <td>Not Interested</td>\n",
              "      <td>Not Interested</td>\n",
              "      <td>Not Interested</td>\n",
              "      <td>Database Administrator</td>\n",
              "    </tr>\n",
              "    <tr>\n",
              "      <th>4</th>\n",
              "      <td>Professional</td>\n",
              "      <td>Intermediate</td>\n",
              "      <td>Not Interested</td>\n",
              "      <td>Not Interested</td>\n",
              "      <td>Not Interested</td>\n",
              "      <td>Not Interested</td>\n",
              "      <td>Not Interested</td>\n",
              "      <td>Not Interested</td>\n",
              "      <td>Not Interested</td>\n",
              "      <td>Not Interested</td>\n",
              "      <td>Not Interested</td>\n",
              "      <td>Not Interested</td>\n",
              "      <td>Not Interested</td>\n",
              "      <td>Not Interested</td>\n",
              "      <td>Not Interested</td>\n",
              "      <td>Not Interested</td>\n",
              "      <td>Not Interested</td>\n",
              "      <td>Database Administrator</td>\n",
              "    </tr>\n",
              "    <tr>\n",
              "      <th>...</th>\n",
              "      <td>...</td>\n",
              "      <td>...</td>\n",
              "      <td>...</td>\n",
              "      <td>...</td>\n",
              "      <td>...</td>\n",
              "      <td>...</td>\n",
              "      <td>...</td>\n",
              "      <td>...</td>\n",
              "      <td>...</td>\n",
              "      <td>...</td>\n",
              "      <td>...</td>\n",
              "      <td>...</td>\n",
              "      <td>...</td>\n",
              "      <td>...</td>\n",
              "      <td>...</td>\n",
              "      <td>...</td>\n",
              "      <td>...</td>\n",
              "      <td>...</td>\n",
              "    </tr>\n",
              "    <tr>\n",
              "      <th>9174</th>\n",
              "      <td>Not Interested</td>\n",
              "      <td>Not Interested</td>\n",
              "      <td>Not Interested</td>\n",
              "      <td>Not Interested</td>\n",
              "      <td>Not Interested</td>\n",
              "      <td>Not Interested</td>\n",
              "      <td>Not Interested</td>\n",
              "      <td>Not Interested</td>\n",
              "      <td>Not Interested</td>\n",
              "      <td>Not Interested</td>\n",
              "      <td>Not Interested</td>\n",
              "      <td>Not Interested</td>\n",
              "      <td>Not Interested</td>\n",
              "      <td>Not Interested</td>\n",
              "      <td>Poor</td>\n",
              "      <td>Poor</td>\n",
              "      <td>Professional</td>\n",
              "      <td>Graphics Designer</td>\n",
              "    </tr>\n",
              "    <tr>\n",
              "      <th>9175</th>\n",
              "      <td>Not Interested</td>\n",
              "      <td>Not Interested</td>\n",
              "      <td>Not Interested</td>\n",
              "      <td>Not Interested</td>\n",
              "      <td>Not Interested</td>\n",
              "      <td>Not Interested</td>\n",
              "      <td>Not Interested</td>\n",
              "      <td>Not Interested</td>\n",
              "      <td>Not Interested</td>\n",
              "      <td>Not Interested</td>\n",
              "      <td>Not Interested</td>\n",
              "      <td>Not Interested</td>\n",
              "      <td>Not Interested</td>\n",
              "      <td>Not Interested</td>\n",
              "      <td>Beginner</td>\n",
              "      <td>Beginner</td>\n",
              "      <td>Professional</td>\n",
              "      <td>Graphics Designer</td>\n",
              "    </tr>\n",
              "    <tr>\n",
              "      <th>9176</th>\n",
              "      <td>Not Interested</td>\n",
              "      <td>Not Interested</td>\n",
              "      <td>Not Interested</td>\n",
              "      <td>Not Interested</td>\n",
              "      <td>Not Interested</td>\n",
              "      <td>Not Interested</td>\n",
              "      <td>Not Interested</td>\n",
              "      <td>Not Interested</td>\n",
              "      <td>Not Interested</td>\n",
              "      <td>Not Interested</td>\n",
              "      <td>Not Interested</td>\n",
              "      <td>Not Interested</td>\n",
              "      <td>Not Interested</td>\n",
              "      <td>Not Interested</td>\n",
              "      <td>Average</td>\n",
              "      <td>Average</td>\n",
              "      <td>Professional</td>\n",
              "      <td>Graphics Designer</td>\n",
              "    </tr>\n",
              "    <tr>\n",
              "      <th>9177</th>\n",
              "      <td>Not Interested</td>\n",
              "      <td>Not Interested</td>\n",
              "      <td>Not Interested</td>\n",
              "      <td>Not Interested</td>\n",
              "      <td>Not Interested</td>\n",
              "      <td>Not Interested</td>\n",
              "      <td>Not Interested</td>\n",
              "      <td>Not Interested</td>\n",
              "      <td>Not Interested</td>\n",
              "      <td>Not Interested</td>\n",
              "      <td>Not Interested</td>\n",
              "      <td>Not Interested</td>\n",
              "      <td>Not Interested</td>\n",
              "      <td>Not Interested</td>\n",
              "      <td>Intermediate</td>\n",
              "      <td>Intermediate</td>\n",
              "      <td>Professional</td>\n",
              "      <td>Graphics Designer</td>\n",
              "    </tr>\n",
              "    <tr>\n",
              "      <th>9178</th>\n",
              "      <td>Not Interested</td>\n",
              "      <td>Not Interested</td>\n",
              "      <td>Not Interested</td>\n",
              "      <td>Not Interested</td>\n",
              "      <td>Not Interested</td>\n",
              "      <td>Not Interested</td>\n",
              "      <td>Not Interested</td>\n",
              "      <td>Not Interested</td>\n",
              "      <td>Not Interested</td>\n",
              "      <td>Not Interested</td>\n",
              "      <td>Not Interested</td>\n",
              "      <td>Not Interested</td>\n",
              "      <td>Not Interested</td>\n",
              "      <td>Not Interested</td>\n",
              "      <td>Excellent</td>\n",
              "      <td>Excellent</td>\n",
              "      <td>Professional</td>\n",
              "      <td>Graphics Designer</td>\n",
              "    </tr>\n",
              "  </tbody>\n",
              "</table>\n",
              "<p>9179 rows × 18 columns</p>\n",
              "</div>\n",
              "      <button class=\"colab-df-convert\" onclick=\"convertToInteractive('df-ba9c845e-24f3-4c8b-bac9-c755c32ce1b5')\"\n",
              "              title=\"Convert this dataframe to an interactive table.\"\n",
              "              style=\"display:none;\">\n",
              "        \n",
              "  <svg xmlns=\"http://www.w3.org/2000/svg\" height=\"24px\"viewBox=\"0 0 24 24\"\n",
              "       width=\"24px\">\n",
              "    <path d=\"M0 0h24v24H0V0z\" fill=\"none\"/>\n",
              "    <path d=\"M18.56 5.44l.94 2.06.94-2.06 2.06-.94-2.06-.94-.94-2.06-.94 2.06-2.06.94zm-11 1L8.5 8.5l.94-2.06 2.06-.94-2.06-.94L8.5 2.5l-.94 2.06-2.06.94zm10 10l.94 2.06.94-2.06 2.06-.94-2.06-.94-.94-2.06-.94 2.06-2.06.94z\"/><path d=\"M17.41 7.96l-1.37-1.37c-.4-.4-.92-.59-1.43-.59-.52 0-1.04.2-1.43.59L10.3 9.45l-7.72 7.72c-.78.78-.78 2.05 0 2.83L4 21.41c.39.39.9.59 1.41.59.51 0 1.02-.2 1.41-.59l7.78-7.78 2.81-2.81c.8-.78.8-2.07 0-2.86zM5.41 20L4 18.59l7.72-7.72 1.47 1.35L5.41 20z\"/>\n",
              "  </svg>\n",
              "      </button>\n",
              "      \n",
              "  <style>\n",
              "    .colab-df-container {\n",
              "      display:flex;\n",
              "      flex-wrap:wrap;\n",
              "      gap: 12px;\n",
              "    }\n",
              "\n",
              "    .colab-df-convert {\n",
              "      background-color: #E8F0FE;\n",
              "      border: none;\n",
              "      border-radius: 50%;\n",
              "      cursor: pointer;\n",
              "      display: none;\n",
              "      fill: #1967D2;\n",
              "      height: 32px;\n",
              "      padding: 0 0 0 0;\n",
              "      width: 32px;\n",
              "    }\n",
              "\n",
              "    .colab-df-convert:hover {\n",
              "      background-color: #E2EBFA;\n",
              "      box-shadow: 0px 1px 2px rgba(60, 64, 67, 0.3), 0px 1px 3px 1px rgba(60, 64, 67, 0.15);\n",
              "      fill: #174EA6;\n",
              "    }\n",
              "\n",
              "    [theme=dark] .colab-df-convert {\n",
              "      background-color: #3B4455;\n",
              "      fill: #D2E3FC;\n",
              "    }\n",
              "\n",
              "    [theme=dark] .colab-df-convert:hover {\n",
              "      background-color: #434B5C;\n",
              "      box-shadow: 0px 1px 3px 1px rgba(0, 0, 0, 0.15);\n",
              "      filter: drop-shadow(0px 1px 2px rgba(0, 0, 0, 0.3));\n",
              "      fill: #FFFFFF;\n",
              "    }\n",
              "  </style>\n",
              "\n",
              "      <script>\n",
              "        const buttonEl =\n",
              "          document.querySelector('#df-ba9c845e-24f3-4c8b-bac9-c755c32ce1b5 button.colab-df-convert');\n",
              "        buttonEl.style.display =\n",
              "          google.colab.kernel.accessAllowed ? 'block' : 'none';\n",
              "\n",
              "        async function convertToInteractive(key) {\n",
              "          const element = document.querySelector('#df-ba9c845e-24f3-4c8b-bac9-c755c32ce1b5');\n",
              "          const dataTable =\n",
              "            await google.colab.kernel.invokeFunction('convertToInteractive',\n",
              "                                                     [key], {});\n",
              "          if (!dataTable) return;\n",
              "\n",
              "          const docLinkHtml = 'Like what you see? Visit the ' +\n",
              "            '<a target=\"_blank\" href=https://colab.research.google.com/notebooks/data_table.ipynb>data table notebook</a>'\n",
              "            + ' to learn more about interactive tables.';\n",
              "          element.innerHTML = '';\n",
              "          dataTable['output_type'] = 'display_data';\n",
              "          await google.colab.output.renderOutput(dataTable, element);\n",
              "          const docLink = document.createElement('div');\n",
              "          docLink.innerHTML = docLinkHtml;\n",
              "          element.appendChild(docLink);\n",
              "        }\n",
              "      </script>\n",
              "    </div>\n",
              "  </div>\n",
              "  "
            ]
          },
          "metadata": {},
          "execution_count": 70
        }
      ]
    },
    {
      "cell_type": "code",
      "source": [
        "df.info()"
      ],
      "metadata": {
        "colab": {
          "base_uri": "https://localhost:8080/"
        },
        "id": "QuTIR2fgXumT",
        "outputId": "d140661b-4b1b-4e72-a019-70bd09c21af1"
      },
      "execution_count": null,
      "outputs": [
        {
          "output_type": "stream",
          "name": "stdout",
          "text": [
            "<class 'pandas.core.frame.DataFrame'>\n",
            "RangeIndex: 9179 entries, 0 to 9178\n",
            "Data columns (total 18 columns):\n",
            " #   Column                           Non-Null Count  Dtype \n",
            "---  ------                           --------------  ----- \n",
            " 0   Database Fundamentals            9179 non-null   object\n",
            " 1   Computer Architecture            9179 non-null   object\n",
            " 2   Distributed Computing Systems    9179 non-null   object\n",
            " 3   Cyber Security                   9179 non-null   object\n",
            " 4   Networking                       9179 non-null   object\n",
            " 5   Software Development             9179 non-null   object\n",
            " 6   Programming Skills               9179 non-null   object\n",
            " 7   Project Management               9179 non-null   object\n",
            " 8   Computer Forensics Fundamentals  9179 non-null   object\n",
            " 9   Technical Communication          9179 non-null   object\n",
            " 10  AI ML                            9179 non-null   object\n",
            " 11  Software Engineering             9179 non-null   object\n",
            " 12  Business Analysis                9179 non-null   object\n",
            " 13  Communication skills             9179 non-null   object\n",
            " 14  Data Science                     9179 non-null   object\n",
            " 15  Troubleshooting skills           9179 non-null   object\n",
            " 16  Graphics Designing               9178 non-null   object\n",
            " 17  Role                             9179 non-null   object\n",
            "dtypes: object(18)\n",
            "memory usage: 1.3+ MB\n"
          ]
        }
      ]
    },
    {
      "cell_type": "code",
      "source": [
        "df.isnull().sum()"
      ],
      "metadata": {
        "colab": {
          "base_uri": "https://localhost:8080/"
        },
        "id": "eGVNSwsqV0-i",
        "outputId": "8e30dd09-fd67-4a0f-ce91-0b4ea225bce6"
      },
      "execution_count": null,
      "outputs": [
        {
          "output_type": "execute_result",
          "data": {
            "text/plain": [
              "Database Fundamentals              0\n",
              "Computer Architecture              0\n",
              "Distributed Computing Systems      0\n",
              "Cyber Security                     0\n",
              "Networking                         0\n",
              "Software Development               0\n",
              "Programming Skills                 0\n",
              "Project Management                 0\n",
              "Computer Forensics Fundamentals    0\n",
              "Technical Communication            0\n",
              "AI ML                              0\n",
              "Software Engineering               0\n",
              "Business Analysis                  0\n",
              "Communication skills               0\n",
              "Data Science                       0\n",
              "Troubleshooting skills             0\n",
              "Graphics Designing                 1\n",
              "Role                               0\n",
              "dtype: int64"
            ]
          },
          "metadata": {},
          "execution_count": 72
        }
      ]
    },
    {
      "cell_type": "code",
      "source": [
        "df.dtypes"
      ],
      "metadata": {
        "colab": {
          "base_uri": "https://localhost:8080/"
        },
        "id": "IIm2nfiqbyrI",
        "outputId": "7c1b766b-5a15-47ef-dec8-aaf7786253f2"
      },
      "execution_count": null,
      "outputs": [
        {
          "output_type": "execute_result",
          "data": {
            "text/plain": [
              "Database Fundamentals              object\n",
              "Computer Architecture              object\n",
              "Distributed Computing Systems      object\n",
              "Cyber Security                     object\n",
              "Networking                         object\n",
              "Software Development               object\n",
              "Programming Skills                 object\n",
              "Project Management                 object\n",
              "Computer Forensics Fundamentals    object\n",
              "Technical Communication            object\n",
              "AI ML                              object\n",
              "Software Engineering               object\n",
              "Business Analysis                  object\n",
              "Communication skills               object\n",
              "Data Science                       object\n",
              "Troubleshooting skills             object\n",
              "Graphics Designing                 object\n",
              "Role                               object\n",
              "dtype: object"
            ]
          },
          "metadata": {},
          "execution_count": 73
        }
      ]
    },
    {
      "cell_type": "code",
      "source": [
        "df.corr"
      ],
      "metadata": {
        "colab": {
          "base_uri": "https://localhost:8080/"
        },
        "id": "CS3GiG3Ib6BN",
        "outputId": "c5461a1c-ae8f-4c11-8dc2-00bb899064de"
      },
      "execution_count": null,
      "outputs": [
        {
          "output_type": "execute_result",
          "data": {
            "text/plain": [
              "<bound method DataFrame.corr of      Database Fundamentals Computer Architecture  \\\n",
              "0             Professional        Not Interested   \n",
              "1             Professional                  Poor   \n",
              "2             Professional              Beginner   \n",
              "3             Professional               Average   \n",
              "4             Professional          Intermediate   \n",
              "...                    ...                   ...   \n",
              "9174        Not Interested        Not Interested   \n",
              "9175        Not Interested        Not Interested   \n",
              "9176        Not Interested        Not Interested   \n",
              "9177        Not Interested        Not Interested   \n",
              "9178        Not Interested        Not Interested   \n",
              "\n",
              "     Distributed Computing Systems  Cyber Security      Networking  \\\n",
              "0                   Not Interested  Not Interested  Not Interested   \n",
              "1                   Not Interested  Not Interested  Not Interested   \n",
              "2                   Not Interested  Not Interested  Not Interested   \n",
              "3                   Not Interested  Not Interested  Not Interested   \n",
              "4                   Not Interested  Not Interested  Not Interested   \n",
              "...                            ...             ...             ...   \n",
              "9174                Not Interested  Not Interested  Not Interested   \n",
              "9175                Not Interested  Not Interested  Not Interested   \n",
              "9176                Not Interested  Not Interested  Not Interested   \n",
              "9177                Not Interested  Not Interested  Not Interested   \n",
              "9178                Not Interested  Not Interested  Not Interested   \n",
              "\n",
              "     Software Development Programming Skills Project Management  \\\n",
              "0          Not Interested     Not Interested     Not Interested   \n",
              "1          Not Interested     Not Interested     Not Interested   \n",
              "2          Not Interested     Not Interested     Not Interested   \n",
              "3          Not Interested     Not Interested     Not Interested   \n",
              "4          Not Interested     Not Interested     Not Interested   \n",
              "...                   ...                ...                ...   \n",
              "9174       Not Interested     Not Interested     Not Interested   \n",
              "9175       Not Interested     Not Interested     Not Interested   \n",
              "9176       Not Interested     Not Interested     Not Interested   \n",
              "9177       Not Interested     Not Interested     Not Interested   \n",
              "9178       Not Interested     Not Interested     Not Interested   \n",
              "\n",
              "     Computer Forensics Fundamentals Technical Communication           AI ML  \\\n",
              "0                     Not Interested          Not Interested  Not Interested   \n",
              "1                     Not Interested          Not Interested  Not Interested   \n",
              "2                     Not Interested          Not Interested  Not Interested   \n",
              "3                     Not Interested          Not Interested  Not Interested   \n",
              "4                     Not Interested          Not Interested  Not Interested   \n",
              "...                              ...                     ...             ...   \n",
              "9174                  Not Interested          Not Interested  Not Interested   \n",
              "9175                  Not Interested          Not Interested  Not Interested   \n",
              "9176                  Not Interested          Not Interested  Not Interested   \n",
              "9177                  Not Interested          Not Interested  Not Interested   \n",
              "9178                  Not Interested          Not Interested  Not Interested   \n",
              "\n",
              "     Software Engineering Business Analysis Communication skills  \\\n",
              "0          Not Interested    Not Interested       Not Interested   \n",
              "1          Not Interested    Not Interested       Not Interested   \n",
              "2          Not Interested    Not Interested       Not Interested   \n",
              "3          Not Interested    Not Interested       Not Interested   \n",
              "4          Not Interested    Not Interested       Not Interested   \n",
              "...                   ...               ...                  ...   \n",
              "9174       Not Interested    Not Interested       Not Interested   \n",
              "9175       Not Interested    Not Interested       Not Interested   \n",
              "9176       Not Interested    Not Interested       Not Interested   \n",
              "9177       Not Interested    Not Interested       Not Interested   \n",
              "9178       Not Interested    Not Interested       Not Interested   \n",
              "\n",
              "        Data Science Troubleshooting skills Graphics Designing  \\\n",
              "0     Not Interested         Not Interested     Not Interested   \n",
              "1     Not Interested         Not Interested     Not Interested   \n",
              "2     Not Interested         Not Interested     Not Interested   \n",
              "3     Not Interested         Not Interested     Not Interested   \n",
              "4     Not Interested         Not Interested     Not Interested   \n",
              "...              ...                    ...                ...   \n",
              "9174            Poor                   Poor       Professional   \n",
              "9175        Beginner               Beginner       Professional   \n",
              "9176         Average                Average       Professional   \n",
              "9177    Intermediate           Intermediate       Professional   \n",
              "9178       Excellent              Excellent       Professional   \n",
              "\n",
              "                        Role  \n",
              "0     Database Administrator  \n",
              "1     Database Administrator  \n",
              "2     Database Administrator  \n",
              "3     Database Administrator  \n",
              "4     Database Administrator  \n",
              "...                      ...  \n",
              "9174       Graphics Designer  \n",
              "9175       Graphics Designer  \n",
              "9176       Graphics Designer  \n",
              "9177       Graphics Designer  \n",
              "9178       Graphics Designer  \n",
              "\n",
              "[9179 rows x 18 columns]>"
            ]
          },
          "metadata": {},
          "execution_count": 74
        }
      ]
    },
    {
      "cell_type": "code",
      "source": [
        "\n",
        "\n",
        "sns.countplot(x=\"Role\",data=df)\n"
      ],
      "metadata": {
        "colab": {
          "base_uri": "https://localhost:8080/",
          "height": 466
        },
        "id": "i9TEUNlnc0Yo",
        "outputId": "d467ab50-9332-4a37-ce40-62fe9fbcfc87"
      },
      "execution_count": null,
      "outputs": [
        {
          "output_type": "execute_result",
          "data": {
            "text/plain": [
              "<Axes: xlabel='Role', ylabel='count'>"
            ]
          },
          "metadata": {},
          "execution_count": 75
        },
        {
          "output_type": "display_data",
          "data": {
            "text/plain": [
              "<Figure size 640x480 with 1 Axes>"
            ],
            "image/png": "[encoded data removed]"
          },
          "metadata": {}
        }
      ]
    },
    {
      "cell_type": "code",
      "source": [
        "df = df[[ 'Database Fundamentals', 'Computer Architecture',  'Distributed Computing Systems','Cyber Security','Networking','Software Development','Programming Skills','Project Management','Computer Forensics Fundamentals','Technical Communication','AI ML','Software Engineering','Business Analysis','Communication skills','Data Science','Troubleshooting skills','Graphics Designing','Role']]\n",
        "\n",
        "df.head()"
      ],
      "metadata": {
        "id": "6dS_LfQYBdn5",
        "colab": {
          "base_uri": "https://localhost:8080/",
          "height": 392
        },
        "outputId": "cbe37c79-1113-4643-f8d2-3c55eddb227d"
      },
      "execution_count": null,
      "outputs": [
        {
          "output_type": "execute_result",
          "data": {
            "text/plain": [
              "  Database Fundamentals Computer Architecture Distributed Computing Systems  \\\n",
              "0          Professional        Not Interested                Not Interested   \n",
              "1          Professional                  Poor                Not Interested   \n",
              "2          Professional              Beginner                Not Interested   \n",
              "3          Professional               Average                Not Interested   \n",
              "4          Professional          Intermediate                Not Interested   \n",
              "\n",
              "   Cyber Security      Networking Software Development Programming Skills  \\\n",
              "0  Not Interested  Not Interested       Not Interested     Not Interested   \n",
              "1  Not Interested  Not Interested       Not Interested     Not Interested   \n",
              "2  Not Interested  Not Interested       Not Interested     Not Interested   \n",
              "3  Not Interested  Not Interested       Not Interested     Not Interested   \n",
              "4  Not Interested  Not Interested       Not Interested     Not Interested   \n",
              "\n",
              "  Project Management Computer Forensics Fundamentals Technical Communication  \\\n",
              "0     Not Interested                  Not Interested          Not Interested   \n",
              "1     Not Interested                  Not Interested          Not Interested   \n",
              "2     Not Interested                  Not Interested          Not Interested   \n",
              "3     Not Interested                  Not Interested          Not Interested   \n",
              "4     Not Interested                  Not Interested          Not Interested   \n",
              "\n",
              "            AI ML Software Engineering Business Analysis Communication skills  \\\n",
              "0  Not Interested       Not Interested    Not Interested       Not Interested   \n",
              "1  Not Interested       Not Interested    Not Interested       Not Interested   \n",
              "2  Not Interested       Not Interested    Not Interested       Not Interested   \n",
              "3  Not Interested       Not Interested    Not Interested       Not Interested   \n",
              "4  Not Interested       Not Interested    Not Interested       Not Interested   \n",
              "\n",
              "     Data Science Troubleshooting skills Graphics Designing  \\\n",
              "0  Not Interested         Not Interested     Not Interested   \n",
              "1  Not Interested         Not Interested     Not Interested   \n",
              "2  Not Interested         Not Interested     Not Interested   \n",
              "3  Not Interested         Not Interested     Not Interested   \n",
              "4  Not Interested         Not Interested     Not Interested   \n",
              "\n",
              "                     Role  \n",
              "0  Database Administrator  \n",
              "1  Database Administrator  \n",
              "2  Database Administrator  \n",
              "3  Database Administrator  \n",
              "4  Database Administrator  "
            ],
            "text/html": [
              "\n",
              "  <div id=\"df-67526051-cf83-4930-8f9f-57cf15701c18\">\n",
              "    <div class=\"colab-df-container\">\n",
              "      <div>\n",
              "<style scoped>\n",
              "    .dataframe tbody tr th:only-of-type {\n",
              "        vertical-align: middle;\n",
              "    }\n",
              "\n",
              "    .dataframe tbody tr th {\n",
              "        vertical-align: top;\n",
              "    }\n",
              "\n",
              "    .dataframe thead th {\n",
              "        text-align: right;\n",
              "    }\n",
              "</style>\n",
              "<table border=\"1\" class=\"dataframe\">\n",
              "  <thead>\n",
              "    <tr style=\"text-align: right;\">\n",
              "      <th></th>\n",
              "      <th>Database Fundamentals</th>\n",
              "      <th>Computer Architecture</th>\n",
              "      <th>Distributed Computing Systems</th>\n",
              "      <th>Cyber Security</th>\n",
              "      <th>Networking</th>\n",
              "      <th>Software Development</th>\n",
              "      <th>Programming Skills</th>\n",
              "      <th>Project Management</th>\n",
              "      <th>Computer Forensics Fundamentals</th>\n",
              "      <th>Technical Communication</th>\n",
              "      <th>AI ML</th>\n",
              "      <th>Software Engineering</th>\n",
              "      <th>Business Analysis</th>\n",
              "      <th>Communication skills</th>\n",
              "      <th>Data Science</th>\n",
              "      <th>Troubleshooting skills</th>\n",
              "      <th>Graphics Designing</th>\n",
              "      <th>Role</th>\n",
              "    </tr>\n",
              "  </thead>\n",
              "  <tbody>\n",
              "    <tr>\n",
              "      <th>0</th>\n",
              "      <td>Professional</td>\n",
              "      <td>Not Interested</td>\n",
              "      <td>Not Interested</td>\n",
              "      <td>Not Interested</td>\n",
              "      <td>Not Interested</td>\n",
              "      <td>Not Interested</td>\n",
              "      <td>Not Interested</td>\n",
              "      <td>Not Interested</td>\n",
              "      <td>Not Interested</td>\n",
              "      <td>Not Interested</td>\n",
              "      <td>Not Interested</td>\n",
              "      <td>Not Interested</td>\n",
              "      <td>Not Interested</td>\n",
              "      <td>Not Interested</td>\n",
              "      <td>Not Interested</td>\n",
              "      <td>Not Interested</td>\n",
              "      <td>Not Interested</td>\n",
              "      <td>Database Administrator</td>\n",
              "    </tr>\n",
              "    <tr>\n",
              "      <th>1</th>\n",
              "      <td>Professional</td>\n",
              "      <td>Poor</td>\n",
              "      <td>Not Interested</td>\n",
              "      <td>Not Interested</td>\n",
              "      <td>Not Interested</td>\n",
              "      <td>Not Interested</td>\n",
              "      <td>Not Interested</td>\n",
              "      <td>Not Interested</td>\n",
              "      <td>Not Interested</td>\n",
              "      <td>Not Interested</td>\n",
              "      <td>Not Interested</td>\n",
              "      <td>Not Interested</td>\n",
              "      <td>Not Interested</td>\n",
              "      <td>Not Interested</td>\n",
              "      <td>Not Interested</td>\n",
              "      <td>Not Interested</td>\n",
              "      <td>Not Interested</td>\n",
              "      <td>Database Administrator</td>\n",
              "    </tr>\n",
              "    <tr>\n",
              "      <th>2</th>\n",
              "      <td>Professional</td>\n",
              "      <td>Beginner</td>\n",
              "      <td>Not Interested</td>\n",
              "      <td>Not Interested</td>\n",
              "      <td>Not Interested</td>\n",
              "      <td>Not Interested</td>\n",
              "      <td>Not Interested</td>\n",
              "      <td>Not Interested</td>\n",
              "      <td>Not Interested</td>\n",
              "      <td>Not Interested</td>\n",
              "      <td>Not Interested</td>\n",
              "      <td>Not Interested</td>\n",
              "      <td>Not Interested</td>\n",
              "      <td>Not Interested</td>\n",
              "      <td>Not Interested</td>\n",
              "      <td>Not Interested</td>\n",
              "      <td>Not Interested</td>\n",
              "      <td>Database Administrator</td>\n",
              "    </tr>\n",
              "    <tr>\n",
              "      <th>3</th>\n",
              "      <td>Professional</td>\n",
              "      <td>Average</td>\n",
              "      <td>Not Interested</td>\n",
              "      <td>Not Interested</td>\n",
              "      <td>Not Interested</td>\n",
              "      <td>Not Interested</td>\n",
              "      <td>Not Interested</td>\n",
              "      <td>Not Interested</td>\n",
              "      <td>Not Interested</td>\n",
              "      <td>Not Interested</td>\n",
              "      <td>Not Interested</td>\n",
              "      <td>Not Interested</td>\n",
              "      <td>Not Interested</td>\n",
              "      <td>Not Interested</td>\n",
              "      <td>Not Interested</td>\n",
              "      <td>Not Interested</td>\n",
              "      <td>Not Interested</td>\n",
              "      <td>Database Administrator</td>\n",
              "    </tr>\n",
              "    <tr>\n",
              "      <th>4</th>\n",
              "      <td>Professional</td>\n",
              "      <td>Intermediate</td>\n",
              "      <td>Not Interested</td>\n",
              "      <td>Not Interested</td>\n",
              "      <td>Not Interested</td>\n",
              "      <td>Not Interested</td>\n",
              "      <td>Not Interested</td>\n",
              "      <td>Not Interested</td>\n",
              "      <td>Not Interested</td>\n",
              "      <td>Not Interested</td>\n",
              "      <td>Not Interested</td>\n",
              "      <td>Not Interested</td>\n",
              "      <td>Not Interested</td>\n",
              "      <td>Not Interested</td>\n",
              "      <td>Not Interested</td>\n",
              "      <td>Not Interested</td>\n",
              "      <td>Not Interested</td>\n",
              "      <td>Database Administrator</td>\n",
              "    </tr>\n",
              "  </tbody>\n",
              "</table>\n",
              "</div>\n",
              "      <button class=\"colab-df-convert\" onclick=\"convertToInteractive('df-67526051-cf83-4930-8f9f-57cf15701c18')\"\n",
              "              title=\"Convert this dataframe to an interactive table.\"\n",
              "              style=\"display:none;\">\n",
              "        \n",
              "  <svg xmlns=\"http://www.w3.org/2000/svg\" height=\"24px\"viewBox=\"0 0 24 24\"\n",
              "       width=\"24px\">\n",
              "    <path d=\"M0 0h24v24H0V0z\" fill=\"none\"/>\n",
              "    <path d=\"M18.56 5.44l.94 2.06.94-2.06 2.06-.94-2.06-.94-.94-2.06-.94 2.06-2.06.94zm-11 1L8.5 8.5l.94-2.06 2.06-.94-2.06-.94L8.5 2.5l-.94 2.06-2.06.94zm10 10l.94 2.06.94-2.06 2.06-.94-2.06-.94-.94-2.06-.94 2.06-2.06.94z\"/><path d=\"M17.41 7.96l-1.37-1.37c-.4-.4-.92-.59-1.43-.59-.52 0-1.04.2-1.43.59L10.3 9.45l-7.72 7.72c-.78.78-.78 2.05 0 2.83L4 21.41c.39.39.9.59 1.41.59.51 0 1.02-.2 1.41-.59l7.78-7.78 2.81-2.81c.8-.78.8-2.07 0-2.86zM5.41 20L4 18.59l7.72-7.72 1.47 1.35L5.41 20z\"/>\n",
              "  </svg>\n",
              "      </button>\n",
              "      \n",
              "  <style>\n",
              "    .colab-df-container {\n",
              "      display:flex;\n",
              "      flex-wrap:wrap;\n",
              "      gap: 12px;\n",
              "    }\n",
              "\n",
              "    .colab-df-convert {\n",
              "      background-color: #E8F0FE;\n",
              "      border: none;\n",
              "      border-radius: 50%;\n",
              "      cursor: pointer;\n",
              "      display: none;\n",
              "      fill: #1967D2;\n",
              "      height: 32px;\n",
              "      padding: 0 0 0 0;\n",
              "      width: 32px;\n",
              "    }\n",
              "\n",
              "    .colab-df-convert:hover {\n",
              "      background-color: #E2EBFA;\n",
              "      box-shadow: 0px 1px 2px rgba(60, 64, 67, 0.3), 0px 1px 3px 1px rgba(60, 64, 67, 0.15);\n",
              "      fill: #174EA6;\n",
              "    }\n",
              "\n",
              "    [theme=dark] .colab-df-convert {\n",
              "      background-color: #3B4455;\n",
              "      fill: #D2E3FC;\n",
              "    }\n",
              "\n",
              "    [theme=dark] .colab-df-convert:hover {\n",
              "      background-color: #434B5C;\n",
              "      box-shadow: 0px 1px 3px 1px rgba(0, 0, 0, 0.15);\n",
              "      filter: drop-shadow(0px 1px 2px rgba(0, 0, 0, 0.3));\n",
              "      fill: #FFFFFF;\n",
              "    }\n",
              "  </style>\n",
              "\n",
              "      <script>\n",
              "        const buttonEl =\n",
              "          document.querySelector('#df-67526051-cf83-4930-8f9f-57cf15701c18 button.colab-df-convert');\n",
              "        buttonEl.style.display =\n",
              "          google.colab.kernel.accessAllowed ? 'block' : 'none';\n",
              "\n",
              "        async function convertToInteractive(key) {\n",
              "          const element = document.querySelector('#df-67526051-cf83-4930-8f9f-57cf15701c18');\n",
              "          const dataTable =\n",
              "            await google.colab.kernel.invokeFunction('convertToInteractive',\n",
              "                                                     [key], {});\n",
              "          if (!dataTable) return;\n",
              "\n",
              "          const docLinkHtml = 'Like what you see? Visit the ' +\n",
              "            '<a target=\"_blank\" href=https://colab.research.google.com/notebooks/data_table.ipynb>data table notebook</a>'\n",
              "            + ' to learn more about interactive tables.';\n",
              "          element.innerHTML = '';\n",
              "          dataTable['output_type'] = 'display_data';\n",
              "          await google.colab.output.renderOutput(dataTable, element);\n",
              "          const docLink = document.createElement('div');\n",
              "          docLink.innerHTML = docLinkHtml;\n",
              "          element.appendChild(docLink);\n",
              "        }\n",
              "      </script>\n",
              "    </div>\n",
              "  </div>\n",
              "  "
            ]
          },
          "metadata": {},
          "execution_count": 76
        }
      ]
    },
    {
      "cell_type": "code",
      "source": [
        "X = np.asarray(df[['Database Fundamentals', 'Computer Architecture',  'Distributed Computing Systems','Cyber Security','Networking','Software Development','Programming Skills','Project Management','Computer Forensics Fundamentals','Technical Communication','AI ML','Software Engineering','Business Analysis']])\n",
        "X[0:6]\n",
        "\n",
        "y = np.asarray(df['Role'])\n",
        "y [0:6]"
      ],
      "metadata": {
        "id": "wUuo8CDwCZht"
      },
      "execution_count": null,
      "outputs": []
    },
    {
      "cell_type": "code",
      "source": [
        "from sklearn.preprocessing import LabelEncoder \n",
        "y = LabelEncoder().fit_transform(y)"
      ],
      "metadata": {
        "id": "IHkKpjv2mhgK"
      },
      "execution_count": null,
      "outputs": []
    },
    {
      "cell_type": "code",
      "source": [
        "y [0:6]"
      ],
      "metadata": {
        "id": "Rc3ioC9IUiuq",
        "colab": {
          "base_uri": "https://localhost:8080/"
        },
        "outputId": "6fbf9f23-36e4-42e8-cfbe-08b5cfce5c27"
      },
      "execution_count": null,
      "outputs": [
        {
          "output_type": "execute_result",
          "data": {
            "text/plain": [
              "array([7, 7, 7, 7, 7, 7])"
            ]
          },
          "metadata": {},
          "execution_count": 79
        }
      ]
    },
    {
      "cell_type": "code",
      "source": [
        "from sklearn import preprocessing\n",
        "from sklearn.preprocessing import OneHotEncoder \n",
        "X = OneHotEncoder().fit_transform(X).toarray()\n",
        "X[0:6]\n"
      ],
      "metadata": {
        "id": "1BBaGoN-C9pP",
        "colab": {
          "base_uri": "https://localhost:8080/"
        },
        "outputId": "ce46ab0f-2dcb-44e1-af74-d31a50ab5a80"
      },
      "execution_count": null,
      "outputs": [
        {
          "output_type": "execute_result",
          "data": {
            "text/plain": [
              "array([[0., 0., 0., 0., 0., 0., 1., 0., 0., 0., 0., 1., 0., 0., 0., 0.,\n",
              "        0., 0., 1., 0., 0., 0., 0., 0., 0., 1., 0., 0., 0., 0., 0., 0.,\n",
              "        1., 0., 0., 0., 0., 0., 0., 1., 0., 0., 0., 0., 0., 0., 1., 0.,\n",
              "        0., 0., 0., 0., 0., 1., 0., 0., 0., 0., 0., 0., 1., 0., 0., 0.,\n",
              "        0., 0., 0., 1., 0., 0., 0., 0., 0., 0., 1., 0., 0., 0., 0., 0.,\n",
              "        0., 1., 0., 0., 0., 0., 0., 0., 1., 0., 0.],\n",
              "       [0., 0., 0., 0., 0., 0., 1., 0., 0., 0., 0., 0., 1., 0., 0., 0.,\n",
              "        0., 0., 1., 0., 0., 0., 0., 0., 0., 1., 0., 0., 0., 0., 0., 0.,\n",
              "        1., 0., 0., 0., 0., 0., 0., 1., 0., 0., 0., 0., 0., 0., 1., 0.,\n",
              "        0., 0., 0., 0., 0., 1., 0., 0., 0., 0., 0., 0., 1., 0., 0., 0.,\n",
              "        0., 0., 0., 1., 0., 0., 0., 0., 0., 0., 1., 0., 0., 0., 0., 0.,\n",
              "        0., 1., 0., 0., 0., 0., 0., 0., 1., 0., 0.],\n",
              "       [0., 0., 0., 0., 0., 0., 1., 0., 1., 0., 0., 0., 0., 0., 0., 0.,\n",
              "        0., 0., 1., 0., 0., 0., 0., 0., 0., 1., 0., 0., 0., 0., 0., 0.,\n",
              "        1., 0., 0., 0., 0., 0., 0., 1., 0., 0., 0., 0., 0., 0., 1., 0.,\n",
              "        0., 0., 0., 0., 0., 1., 0., 0., 0., 0., 0., 0., 1., 0., 0., 0.,\n",
              "        0., 0., 0., 1., 0., 0., 0., 0., 0., 0., 1., 0., 0., 0., 0., 0.,\n",
              "        0., 1., 0., 0., 0., 0., 0., 0., 1., 0., 0.],\n",
              "       [0., 0., 0., 0., 0., 0., 1., 1., 0., 0., 0., 0., 0., 0., 0., 0.,\n",
              "        0., 0., 1., 0., 0., 0., 0., 0., 0., 1., 0., 0., 0., 0., 0., 0.,\n",
              "        1., 0., 0., 0., 0., 0., 0., 1., 0., 0., 0., 0., 0., 0., 1., 0.,\n",
              "        0., 0., 0., 0., 0., 1., 0., 0., 0., 0., 0., 0., 1., 0., 0., 0.,\n",
              "        0., 0., 0., 1., 0., 0., 0., 0., 0., 0., 1., 0., 0., 0., 0., 0.,\n",
              "        0., 1., 0., 0., 0., 0., 0., 0., 1., 0., 0.],\n",
              "       [0., 0., 0., 0., 0., 0., 1., 0., 0., 0., 1., 0., 0., 0., 0., 0.,\n",
              "        0., 0., 1., 0., 0., 0., 0., 0., 0., 1., 0., 0., 0., 0., 0., 0.,\n",
              "        1., 0., 0., 0., 0., 0., 0., 1., 0., 0., 0., 0., 0., 0., 1., 0.,\n",
              "        0., 0., 0., 0., 0., 1., 0., 0., 0., 0., 0., 0., 1., 0., 0., 0.,\n",
              "        0., 0., 0., 1., 0., 0., 0., 0., 0., 0., 1., 0., 0., 0., 0., 0.,\n",
              "        0., 1., 0., 0., 0., 0., 0., 0., 1., 0., 0.],\n",
              "       [0., 0., 0., 0., 0., 0., 1., 0., 0., 1., 0., 0., 0., 0., 0., 0.,\n",
              "        0., 0., 1., 0., 0., 0., 0., 0., 0., 1., 0., 0., 0., 0., 0., 0.,\n",
              "        1., 0., 0., 0., 0., 0., 0., 1., 0., 0., 0., 0., 0., 0., 1., 0.,\n",
              "        0., 0., 0., 0., 0., 1., 0., 0., 0., 0., 0., 0., 1., 0., 0., 0.,\n",
              "        0., 0., 0., 1., 0., 0., 0., 0., 0., 0., 1., 0., 0., 0., 0., 0.,\n",
              "        0., 1., 0., 0., 0., 0., 0., 0., 1., 0., 0.]])"
            ]
          },
          "metadata": {},
          "execution_count": 80
        }
      ]
    },
    {
      "cell_type": "code",
      "source": [
        "from sklearn.model_selection import train_test_split\n",
        "X_train, X_test, y_train, y_test = train_test_split( X, y, test_size=0.3, random_state=4)\n",
        "print ('Train set:', X_train.shape,  y_train.shape)\n",
        "print ('Test set:', X_test.shape,  y_test.shape)"
      ],
      "metadata": {
        "id": "pcv1IrU8CzaZ",
        "colab": {
          "base_uri": "https://localhost:8080/"
        },
        "outputId": "fbe7fa73-406b-4b5e-a8ae-73c355cf3cfa"
      },
      "execution_count": null,
      "outputs": [
        {
          "output_type": "stream",
          "name": "stdout",
          "text": [
            "Train set: (6425, 91) (6425,)\n",
            "Test set: (2754, 91) (2754,)\n"
          ]
        }
      ]
    },
    {
      "cell_type": "code",
      "source": [
        "from sklearn.linear_model import LogisticRegression\n",
        "from sklearn.metrics import confusion_matrix\n",
        "LR =LogisticRegression().fit(X_train,y_train)\n",
        "LR"
      ],
      "metadata": {
        "id": "-tXe--WZSvwM"
      },
      "execution_count": null,
      "outputs": []
    },
    {
      "cell_type": "code",
      "source": [
        "y_pred = LR.predict(X_test)\n",
        "y_pred"
      ],
      "metadata": {
        "id": "0o2tdgAUVdI-"
      },
      "execution_count": null,
      "outputs": []
    },
    {
      "cell_type": "code",
      "source": [
        "score = LR.score(X_test, y_test)\n",
        "print('Test Accuracy Score', score)"
      ],
      "metadata": {
        "id": "u2wr9_auYicZ",
        "colab": {
          "base_uri": "https://localhost:8080/"
        },
        "outputId": "fedf7320-398e-4ebb-bd59-8c8fc4f68dd3"
      },
      "execution_count": null,
      "outputs": [
        {
          "output_type": "stream",
          "name": "stdout",
          "text": [
            "Test Accuracy Score 0.8013798111837328\n"
          ]
        }
      ]
    },
    {
      "cell_type": "code",
      "source": [
        "print('Precision: %.3f' % precision_score(y_test, y_pred,average='micro'))\n",
        "\t\n",
        "print('Recall: %.3f' % recall_score(y_test, y_pred,average='micro'))\n",
        "\n",
        "\t\n",
        "print('F1 Score: %.3f' % f1_score(y_test, y_pred,average='micro'))"
      ],
      "metadata": {
        "colab": {
          "base_uri": "https://localhost:8080/"
        },
        "id": "aWvhkRDPeYfj",
        "outputId": "626a8b1f-36df-4f55-f189-2e6fd3a85480"
      },
      "execution_count": null,
      "outputs": [
        {
          "output_type": "stream",
          "name": "stdout",
          "text": [
            "Precision: 0.801\n",
            "Recall: 0.801\n",
            "F1 Score: 0.801\n"
          ]
        }
      ]
    },
    {
      "cell_type": "code",
      "source": [
        "from sklearn.tree import DecisionTreeClassifier\n",
        "clf_model = DecisionTreeClassifier(criterion=\"gini\", random_state=100, max_depth=6, min_samples_leaf=2)   \n",
        "clf_model.fit(X_train,y_train)"
      ],
      "metadata": {
        "id": "ssEC3wwhY3I1"
      },
      "execution_count": null,
      "outputs": []
    },
    {
      "cell_type": "code",
      "source": [
        "y_predict = clf_model.predict(X_test)"
      ],
      "metadata": {
        "id": "oO46JaumctDg"
      },
      "execution_count": null,
      "outputs": []
    },
    {
      "cell_type": "code",
      "source": [
        "from sklearn.metrics import accuracy_score, classification_report\n",
        "print(\"Accuracy : \", accuracy_score(y_test,y_predict))\n"
      ],
      "metadata": {
        "colab": {
          "base_uri": "https://localhost:8080/"
        },
        "id": "CblkEJSvcxj-",
        "outputId": "3808a5c4-d435-4c86-b251-fd85e4459b85"
      },
      "execution_count": null,
      "outputs": [
        {
          "output_type": "stream",
          "name": "stdout",
          "text": [
            "Accuracy :  0.3954248366013072\n"
          ]
        }
      ]
    },
    {
      "cell_type": "code",
      "source": [
        "print('Precision: %.3f' % precision_score(y_test, y_predict,average='micro'))\n",
        "\t\n",
        "print('Recall: %.3f' % recall_score(y_test, y_predict,average='micro'))\n",
        "\n",
        "\t\n",
        "print('F1 Score: %.3f' % f1_score(y_test, y_predict,average='micro'))"
      ],
      "metadata": {
        "colab": {
          "base_uri": "https://localhost:8080/"
        },
        "id": "Yz_pdIo-hcDA",
        "outputId": "92a2e729-2a0b-4f44-af10-5b6d9ec7ffae"
      },
      "execution_count": null,
      "outputs": [
        {
          "output_type": "stream",
          "name": "stdout",
          "text": [
            "Precision: 0.395\n",
            "Recall: 0.395\n",
            "F1 Score: 0.395\n"
          ]
        }
      ]
    },
    {
      "cell_type": "code",
      "source": [
        "from sklearn.svm import SVC\n",
        "svm_model=SVC()\n",
        "svm_model.fit(X_train,y_train)\n",
        "y_predict=svm_model.predict(X_test)\n",
        "svm_model.score(X_test,y_test)\n"
      ],
      "metadata": {
        "id": "8HNirLEQc0Zb",
        "colab": {
          "base_uri": "https://localhost:8080/"
        },
        "outputId": "4d430932-eedd-4baf-96b7-f9a47dd69487"
      },
      "execution_count": null,
      "outputs": [
        {
          "output_type": "execute_result",
          "data": {
            "text/plain": [
              "0.8159041394335512"
            ]
          },
          "metadata": {},
          "execution_count": 90
        }
      ]
    },
    {
      "cell_type": "code",
      "source": [
        "print('Precision: %.3f' % precision_score(y_test, y_predict,average='micro'))\n",
        "\t\n",
        "print('Recall: %.3f' % recall_score(y_test, y_predict,average='micro'))\n",
        "\n",
        "\t\n",
        "print('F1 Score: %.3f' % f1_score(y_test, y_predict,average='micro'))"
      ],
      "metadata": {
        "colab": {
          "base_uri": "https://localhost:8080/"
        },
        "id": "gmtHQOZbhvWM",
        "outputId": "be915b30-855b-40c1-ef4e-c354cbc4f980"
      },
      "execution_count": null,
      "outputs": [
        {
          "output_type": "stream",
          "name": "stdout",
          "text": [
            "Precision: 0.816\n",
            "Recall: 0.816\n",
            "F1 Score: 0.816\n"
          ]
        }
      ]
    },
    {
      "cell_type": "code",
      "source": [
        "from sklearn.ensemble import RandomForestClassifier\n",
        "rfc_model=RandomForestClassifier()\n",
        "rfc_model.fit(X_train,y_train)\n",
        "y_predict=rfc_model.predict(X_test)\n",
        "rfc_model.score(X_test,y_test)"
      ],
      "metadata": {
        "colab": {
          "base_uri": "https://localhost:8080/"
        },
        "id": "04pBr4iVZlgq",
        "outputId": "ded76a8b-576c-4c06-e073-562e60aa0057"
      },
      "execution_count": null,
      "outputs": [
        {
          "output_type": "execute_result",
          "data": {
            "text/plain": [
              "0.7781408859840232"
            ]
          },
          "metadata": {},
          "execution_count": 92
        }
      ]
    },
    {
      "cell_type": "code",
      "source": [
        "print('Precision: %.3f' % precision_score(y_test, y_predict,average='micro'))\n",
        "\t\n",
        "print('Recall: %.3f' % recall_score(y_test, y_predict,average='micro'))\n",
        "\n",
        "\t\n",
        "print('F1 Score: %.3f' % f1_score(y_test, y_predict,average='micro'))"
      ],
      "metadata": {
        "colab": {
          "base_uri": "https://localhost:8080/"
        },
        "id": "u1_DL-uEhx0L",
        "outputId": "54c43bee-161d-4e46-801a-66d096245b79"
      },
      "execution_count": null,
      "outputs": [
        {
          "output_type": "stream",
          "name": "stdout",
          "text": [
            "Precision: 0.778\n",
            "Recall: 0.778\n",
            "F1 Score: 0.778\n"
          ]
        }
      ]
    },
    {
      "cell_type": "code",
      "source": [
        "from xgboost import XGBClassifier\n",
        "m4=XGBClassifier()\n",
        "m4.fit(X_train,y_train)\n",
        "y_predict=m4.predict(X_test)\n",
        "m4.score(X_test,y_test)"
      ],
      "metadata": {
        "colab": {
          "base_uri": "https://localhost:8080/"
        },
        "id": "YRIU0wrgaJcX",
        "outputId": "7ac8abdd-2169-4319-9bfb-27052220e136"
      },
      "execution_count": null,
      "outputs": [
        {
          "output_type": "execute_result",
          "data": {
            "text/plain": [
              "0.7781408859840232"
            ]
          },
          "metadata": {},
          "execution_count": 94
        }
      ]
    },
    {
      "cell_type": "code",
      "source": [
        "print('Precision: %.3f' % precision_score(y_test, y_predict,average='micro'))\n",
        "\t\n",
        "print('Recall: %.3f' % recall_score(y_test, y_predict,average='micro'))\n",
        "\n",
        "\t\n",
        "print('F1 Score: %.3f' % f1_score(y_test, y_predict,average='micro'))"
      ],
      "metadata": {
        "colab": {
          "base_uri": "https://localhost:8080/"
        },
        "id": "MAxivG97h0-2",
        "outputId": "66eec426-9cfa-4e1f-c25c-bb9b52cd751c"
      },
      "execution_count": null,
      "outputs": [
        {
          "output_type": "stream",
          "name": "stdout",
          "text": [
            "Precision: 0.778\n",
            "Recall: 0.778\n",
            "F1 Score: 0.778\n"
          ]
        }
      ]
    },
    {
      "cell_type": "code",
      "source": [],
      "metadata": {
        "id": "f3o1li3Vael5"
      },
      "execution_count": null,
      "outputs": []
    }
  ]
}